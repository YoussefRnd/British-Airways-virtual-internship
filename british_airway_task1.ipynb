{
 "cells": [
  {
   "cell_type": "markdown",
   "metadata": {},
   "source": [
    "# Task 1\n",
    "\n",
    "---\n",
    "\n",
    "## Web scraping and analysis\n",
    "\n",
    "This Jupyter notebook includes some code to get you started with web scraping. We will use a package called `BeautifulSoup` to collect the data from the web. Once you've collected your data and saved it into a local `.csv` file you should start with your analysis.\n",
    "\n",
    "### Scraping data from Skytrax\n",
    "\n",
    "If you visit [https://www.airlinequality.com] you can see that there is a lot of data there. For this task, we are only interested in reviews related to British Airways and the Airline itself.\n",
    "\n",
    "If you navigate to this link: [https://www.airlinequality.com/airline-reviews/british-airways] you will see this data. Now, we can use `Python` and `BeautifulSoup` to collect all the links to the reviews and then to collect the text data on each of the individual review links."
   ]
  },
  {
   "cell_type": "code",
   "execution_count": 76,
   "metadata": {},
   "outputs": [
    {
     "name": "stdout",
     "output_type": "stream",
     "text": [
      "showing info https://raw.githubusercontent.com/nltk/nltk_data/gh-pages/index.xml\n"
     ]
    },
    {
     "data": {
      "text/plain": [
       "True"
      ]
     },
     "execution_count": 76,
     "metadata": {},
     "output_type": "execute_result"
    }
   ],
   "source": [
    "import requests\n",
    "from bs4 import BeautifulSoup\n",
    "import pandas as pd\n",
    "import nltk\n",
    "nltk.download()"
   ]
  },
  {
   "cell_type": "code",
   "execution_count": 77,
   "metadata": {},
   "outputs": [
    {
     "name": "stdout",
     "output_type": "stream",
     "text": [
      "Scraping page 1\n",
      "   ---> 100 total reviews\n",
      "Scraping page 2\n"
     ]
    },
    {
     "name": "stderr",
     "output_type": "stream",
     "text": [
      "Exception ignored in: <function tqdm.__del__ at 0x0000024371D119E0>\n",
      "Traceback (most recent call last):\n",
      "  File \"c:\\Users\\bouml\\anaconda3\\envs\\env\\Lib\\site-packages\\tqdm\\std.py\", line 1145, in __del__\n",
      "    self.close()\n",
      "  File \"c:\\Users\\bouml\\anaconda3\\envs\\env\\Lib\\site-packages\\tqdm\\notebook.py\", line 283, in close\n",
      "    self.disp(bar_style='danger', check_delay=False)\n",
      "    ^^^^^^^^^\n",
      "AttributeError: 'tqdm_notebook' object has no attribute 'disp'\n"
     ]
    },
    {
     "name": "stdout",
     "output_type": "stream",
     "text": [
      "   ---> 200 total reviews\n",
      "Scraping page 3\n",
      "   ---> 300 total reviews\n",
      "Scraping page 4\n",
      "   ---> 400 total reviews\n",
      "Scraping page 5\n",
      "   ---> 500 total reviews\n",
      "Scraping page 6\n",
      "   ---> 600 total reviews\n",
      "Scraping page 7\n",
      "   ---> 700 total reviews\n",
      "Scraping page 8\n",
      "   ---> 800 total reviews\n",
      "Scraping page 9\n",
      "   ---> 900 total reviews\n",
      "Scraping page 10\n",
      "   ---> 1000 total reviews\n"
     ]
    }
   ],
   "source": [
    "base_url = \"https://www.airlinequality.com/airline-reviews/british-airways\"\n",
    "pages = 10\n",
    "page_size = 100\n",
    "\n",
    "reviews = []\n",
    "\n",
    "# for i in range(1, pages + 1):\n",
    "for i in range(1, pages + 1):\n",
    "\n",
    "    print(f\"Scraping page {i}\")\n",
    "\n",
    "    # Create URL to collect links from paginated data\n",
    "    url = f\"{base_url}/page/{i}/?sortby=post_date%3ADesc&pagesize={page_size}\"\n",
    "\n",
    "    # Collect HTML data from this page\n",
    "    response = requests.get(url)\n",
    "\n",
    "    # Parse content\n",
    "    content = response.content\n",
    "    parsed_content = BeautifulSoup(content, 'html.parser')\n",
    "    for para in parsed_content.find_all(\"div\", {\"class\": \"text_content\"}):\n",
    "        reviews.append(para.get_text())\n",
    "    \n",
    "    print(f\"   ---> {len(reviews)} total reviews\")"
   ]
  },
  {
   "cell_type": "code",
   "execution_count": 78,
   "metadata": {},
   "outputs": [
    {
     "data": {
      "text/html": [
       "<div>\n",
       "<style scoped>\n",
       "    .dataframe tbody tr th:only-of-type {\n",
       "        vertical-align: middle;\n",
       "    }\n",
       "\n",
       "    .dataframe tbody tr th {\n",
       "        vertical-align: top;\n",
       "    }\n",
       "\n",
       "    .dataframe thead th {\n",
       "        text-align: right;\n",
       "    }\n",
       "</style>\n",
       "<table border=\"1\" class=\"dataframe\">\n",
       "  <thead>\n",
       "    <tr style=\"text-align: right;\">\n",
       "      <th></th>\n",
       "      <th>reviews</th>\n",
       "    </tr>\n",
       "  </thead>\n",
       "  <tbody>\n",
       "    <tr>\n",
       "      <th>0</th>\n",
       "      <td>Not Verified |  Food was lousy. Who ever is pl...</td>\n",
       "    </tr>\n",
       "    <tr>\n",
       "      <th>1</th>\n",
       "      <td>✅ Trip Verified | Had the worst experience. Th...</td>\n",
       "    </tr>\n",
       "    <tr>\n",
       "      <th>2</th>\n",
       "      <td>✅ Trip Verified |  The ground staff were not h...</td>\n",
       "    </tr>\n",
       "    <tr>\n",
       "      <th>3</th>\n",
       "      <td>✅ Trip Verified |  Second time BA Premium Econ...</td>\n",
       "    </tr>\n",
       "    <tr>\n",
       "      <th>4</th>\n",
       "      <td>Not Verified |  They changed our Flights from ...</td>\n",
       "    </tr>\n",
       "  </tbody>\n",
       "</table>\n",
       "</div>"
      ],
      "text/plain": [
       "                                             reviews\n",
       "0  Not Verified |  Food was lousy. Who ever is pl...\n",
       "1  ✅ Trip Verified | Had the worst experience. Th...\n",
       "2  ✅ Trip Verified |  The ground staff were not h...\n",
       "3  ✅ Trip Verified |  Second time BA Premium Econ...\n",
       "4  Not Verified |  They changed our Flights from ..."
      ]
     },
     "execution_count": 78,
     "metadata": {},
     "output_type": "execute_result"
    }
   ],
   "source": [
    "df = pd.DataFrame()\n",
    "df[\"reviews\"] = reviews\n",
    "df.head()"
   ]
  },
  {
   "cell_type": "code",
   "execution_count": 79,
   "metadata": {},
   "outputs": [],
   "source": [
    "df.to_csv(\"data/BA_reviews.csv\")"
   ]
  },
  {
   "cell_type": "markdown",
   "metadata": {},
   "source": [
    "Congratulations! Now you have your dataset for this task! The loops above collected 1000 reviews by iterating through the paginated pages on the website. However, if you want to collect more data, try increasing the number of pages!\n",
    "\n",
    " The next thing that you should do is clean this data to remove any unnecessary text from each of the rows. For example, \"✅ Trip Verified\" can be removed from each row if it exists, as it's not relevant to what we want to investigate."
   ]
  },
  {
   "cell_type": "code",
   "execution_count": 80,
   "metadata": {},
   "outputs": [],
   "source": [
    "df['reviews'] = df['reviews'].str.split('|' , expand=True)[1]"
   ]
  },
  {
   "cell_type": "code",
   "execution_count": 81,
   "metadata": {},
   "outputs": [
    {
     "data": {
      "text/html": [
       "<div>\n",
       "<style scoped>\n",
       "    .dataframe tbody tr th:only-of-type {\n",
       "        vertical-align: middle;\n",
       "    }\n",
       "\n",
       "    .dataframe tbody tr th {\n",
       "        vertical-align: top;\n",
       "    }\n",
       "\n",
       "    .dataframe thead th {\n",
       "        text-align: right;\n",
       "    }\n",
       "</style>\n",
       "<table border=\"1\" class=\"dataframe\">\n",
       "  <thead>\n",
       "    <tr style=\"text-align: right;\">\n",
       "      <th></th>\n",
       "      <th>reviews</th>\n",
       "    </tr>\n",
       "  </thead>\n",
       "  <tbody>\n",
       "    <tr>\n",
       "      <th>0</th>\n",
       "      <td>Food was lousy. Who ever is planning the Asi...</td>\n",
       "    </tr>\n",
       "    <tr>\n",
       "      <th>1</th>\n",
       "      <td>Had the worst experience. The flight from Lon...</td>\n",
       "    </tr>\n",
       "    <tr>\n",
       "      <th>2</th>\n",
       "      <td>The ground staff were not helpful. Felt like...</td>\n",
       "    </tr>\n",
       "    <tr>\n",
       "      <th>3</th>\n",
       "      <td>Second time BA Premium Economy in a newer ai...</td>\n",
       "    </tr>\n",
       "    <tr>\n",
       "      <th>4</th>\n",
       "      <td>They changed our Flights from Brussels to Lo...</td>\n",
       "    </tr>\n",
       "  </tbody>\n",
       "</table>\n",
       "</div>"
      ],
      "text/plain": [
       "                                             reviews\n",
       "0    Food was lousy. Who ever is planning the Asi...\n",
       "1   Had the worst experience. The flight from Lon...\n",
       "2    The ground staff were not helpful. Felt like...\n",
       "3    Second time BA Premium Economy in a newer ai...\n",
       "4    They changed our Flights from Brussels to Lo..."
      ]
     },
     "execution_count": 81,
     "metadata": {},
     "output_type": "execute_result"
    }
   ],
   "source": [
    "df.head()"
   ]
  },
  {
   "attachments": {},
   "cell_type": "markdown",
   "metadata": {},
   "source": [
    "# VADER method #\n",
    "We'll use NLTK's SentimentIntensityAnalyzer to get the neg/neu/pos score \n",
    "* removing stop words"
   ]
  },
  {
   "cell_type": "code",
   "execution_count": 82,
   "metadata": {},
   "outputs": [
    {
     "name": "stdout",
     "output_type": "stream",
     "text": [
      "  Food was lousy. Who ever is planning the Asian Hindu Vegetarian meal is clueless as to what this meal includes. The snack was also lousy. It took us 2 hours just to go from T5 to T3 and clear security check. The place was chaotic. We get to our boarding gate and again a long line with 40 minutes wait for someone to check passport and boarding pass. Seats in Premium economy was ok, but when the passenger in front reclines, there is very little space for the window seat passenger to cross over. Overall not a good airline.\n"
     ]
    }
   ],
   "source": [
    "example = df[\"reviews\"][0]\n",
    "print(example)"
   ]
  },
  {
   "cell_type": "code",
   "execution_count": 83,
   "metadata": {},
   "outputs": [
    {
     "data": {
      "text/plain": [
       "['Food',\n",
       " 'was',\n",
       " 'lousy',\n",
       " '.',\n",
       " 'Who',\n",
       " 'ever',\n",
       " 'is',\n",
       " 'planning',\n",
       " 'the',\n",
       " 'Asian',\n",
       " 'Hindu',\n",
       " 'Vegetarian',\n",
       " 'meal',\n",
       " 'is',\n",
       " 'clueless',\n",
       " 'as',\n",
       " 'to',\n",
       " 'what',\n",
       " 'this',\n",
       " 'meal',\n",
       " 'includes',\n",
       " '.',\n",
       " 'The',\n",
       " 'snack',\n",
       " 'was',\n",
       " 'also',\n",
       " 'lousy',\n",
       " '.',\n",
       " 'It',\n",
       " 'took',\n",
       " 'us',\n",
       " '2',\n",
       " 'hours',\n",
       " 'just',\n",
       " 'to',\n",
       " 'go',\n",
       " 'from',\n",
       " 'T5',\n",
       " 'to',\n",
       " 'T3',\n",
       " 'and',\n",
       " 'clear',\n",
       " 'security',\n",
       " 'check',\n",
       " '.',\n",
       " 'The',\n",
       " 'place',\n",
       " 'was',\n",
       " 'chaotic',\n",
       " '.',\n",
       " 'We',\n",
       " 'get',\n",
       " 'to',\n",
       " 'our',\n",
       " 'boarding',\n",
       " 'gate',\n",
       " 'and',\n",
       " 'again',\n",
       " 'a',\n",
       " 'long',\n",
       " 'line',\n",
       " 'with',\n",
       " '40',\n",
       " 'minutes',\n",
       " 'wait',\n",
       " 'for',\n",
       " 'someone',\n",
       " 'to',\n",
       " 'check',\n",
       " 'passport',\n",
       " 'and',\n",
       " 'boarding',\n",
       " 'pass',\n",
       " '.',\n",
       " 'Seats',\n",
       " 'in',\n",
       " 'Premium',\n",
       " 'economy',\n",
       " 'was',\n",
       " 'ok',\n",
       " ',',\n",
       " 'but',\n",
       " 'when',\n",
       " 'the',\n",
       " 'passenger',\n",
       " 'in',\n",
       " 'front',\n",
       " 'reclines',\n",
       " ',',\n",
       " 'there',\n",
       " 'is',\n",
       " 'very',\n",
       " 'little',\n",
       " 'space',\n",
       " 'for',\n",
       " 'the',\n",
       " 'window',\n",
       " 'seat',\n",
       " 'passenger',\n",
       " 'to',\n",
       " 'cross',\n",
       " 'over',\n",
       " '.',\n",
       " 'Overall',\n",
       " 'not',\n",
       " 'a',\n",
       " 'good',\n",
       " 'airline',\n",
       " '.']"
      ]
     },
     "execution_count": 83,
     "metadata": {},
     "output_type": "execute_result"
    }
   ],
   "source": [
    "nltk.word_tokenize(example)"
   ]
  },
  {
   "cell_type": "code",
   "execution_count": 84,
   "metadata": {},
   "outputs": [],
   "source": [
    "from nltk.sentiment import SentimentIntensityAnalyzer\n",
    "sia = SentimentIntensityAnalyzer()"
   ]
  },
  {
   "cell_type": "code",
   "execution_count": 85,
   "metadata": {},
   "outputs": [
    {
     "data": {
      "text/plain": [
       "{'neg': 0.11, 'neu': 0.842, 'pos': 0.049, 'compound': -0.7476}"
      ]
     },
     "execution_count": 85,
     "metadata": {},
     "output_type": "execute_result"
    }
   ],
   "source": [
    "sia.polarity_scores(example)"
   ]
  },
  {
   "cell_type": "code",
   "execution_count": 86,
   "metadata": {},
   "outputs": [
    {
     "data": {
      "text/html": [
       "<div>\n",
       "<style scoped>\n",
       "    .dataframe tbody tr th:only-of-type {\n",
       "        vertical-align: middle;\n",
       "    }\n",
       "\n",
       "    .dataframe tbody tr th {\n",
       "        vertical-align: top;\n",
       "    }\n",
       "\n",
       "    .dataframe thead th {\n",
       "        text-align: right;\n",
       "    }\n",
       "</style>\n",
       "<table border=\"1\" class=\"dataframe\">\n",
       "  <thead>\n",
       "    <tr style=\"text-align: right;\">\n",
       "      <th></th>\n",
       "      <th>index</th>\n",
       "      <th>reviews</th>\n",
       "    </tr>\n",
       "  </thead>\n",
       "  <tbody>\n",
       "    <tr>\n",
       "      <th>0</th>\n",
       "      <td>0</td>\n",
       "      <td>Food was lousy. Who ever is planning the Asi...</td>\n",
       "    </tr>\n",
       "    <tr>\n",
       "      <th>1</th>\n",
       "      <td>1</td>\n",
       "      <td>Had the worst experience. The flight from Lon...</td>\n",
       "    </tr>\n",
       "    <tr>\n",
       "      <th>2</th>\n",
       "      <td>2</td>\n",
       "      <td>The ground staff were not helpful. Felt like...</td>\n",
       "    </tr>\n",
       "    <tr>\n",
       "      <th>3</th>\n",
       "      <td>3</td>\n",
       "      <td>Second time BA Premium Economy in a newer ai...</td>\n",
       "    </tr>\n",
       "    <tr>\n",
       "      <th>4</th>\n",
       "      <td>4</td>\n",
       "      <td>They changed our Flights from Brussels to Lo...</td>\n",
       "    </tr>\n",
       "  </tbody>\n",
       "</table>\n",
       "</div>"
      ],
      "text/plain": [
       "   index                                            reviews\n",
       "0      0    Food was lousy. Who ever is planning the Asi...\n",
       "1      1   Had the worst experience. The flight from Lon...\n",
       "2      2    The ground staff were not helpful. Felt like...\n",
       "3      3    Second time BA Premium Economy in a newer ai...\n",
       "4      4    They changed our Flights from Brussels to Lo..."
      ]
     },
     "execution_count": 86,
     "metadata": {},
     "output_type": "execute_result"
    }
   ],
   "source": [
    "df.reset_index(inplace=True)\n",
    "df.head()"
   ]
  },
  {
   "cell_type": "code",
   "execution_count": 87,
   "metadata": {},
   "outputs": [],
   "source": [
    "# df.drop(columns=[\"level_0\"], inplace=True)\n",
    "df.rename(columns={\"index\": \"review_id\"}, inplace=True)"
   ]
  },
  {
   "cell_type": "code",
   "execution_count": 88,
   "metadata": {},
   "outputs": [],
   "source": [
    "# run the polarity score on all reviews\n",
    "res = {}\n",
    "for i, row in df.iterrows():\n",
    "    text = row[\"reviews\"]\n",
    "    myid = row[\"review_id\"]\n",
    "    res[myid] = sia.polarity_scores(text)\n",
    "    "
   ]
  },
  {
   "cell_type": "code",
   "execution_count": 89,
   "metadata": {},
   "outputs": [
    {
     "data": {
      "text/html": [
       "<div>\n",
       "<style scoped>\n",
       "    .dataframe tbody tr th:only-of-type {\n",
       "        vertical-align: middle;\n",
       "    }\n",
       "\n",
       "    .dataframe tbody tr th {\n",
       "        vertical-align: top;\n",
       "    }\n",
       "\n",
       "    .dataframe thead th {\n",
       "        text-align: right;\n",
       "    }\n",
       "</style>\n",
       "<table border=\"1\" class=\"dataframe\">\n",
       "  <thead>\n",
       "    <tr style=\"text-align: right;\">\n",
       "      <th></th>\n",
       "      <th>review_id</th>\n",
       "      <th>neg</th>\n",
       "      <th>neu</th>\n",
       "      <th>pos</th>\n",
       "      <th>compound</th>\n",
       "      <th>reviews</th>\n",
       "    </tr>\n",
       "  </thead>\n",
       "  <tbody>\n",
       "    <tr>\n",
       "      <th>0</th>\n",
       "      <td>0</td>\n",
       "      <td>0.110</td>\n",
       "      <td>0.842</td>\n",
       "      <td>0.049</td>\n",
       "      <td>-0.7476</td>\n",
       "      <td>Food was lousy. Who ever is planning the Asi...</td>\n",
       "    </tr>\n",
       "    <tr>\n",
       "      <th>1</th>\n",
       "      <td>1</td>\n",
       "      <td>0.110</td>\n",
       "      <td>0.866</td>\n",
       "      <td>0.023</td>\n",
       "      <td>-0.8604</td>\n",
       "      <td>Had the worst experience. The flight from Lon...</td>\n",
       "    </tr>\n",
       "    <tr>\n",
       "      <th>2</th>\n",
       "      <td>2</td>\n",
       "      <td>0.166</td>\n",
       "      <td>0.834</td>\n",
       "      <td>0.000</td>\n",
       "      <td>-0.8537</td>\n",
       "      <td>The ground staff were not helpful. Felt like...</td>\n",
       "    </tr>\n",
       "    <tr>\n",
       "      <th>3</th>\n",
       "      <td>3</td>\n",
       "      <td>0.052</td>\n",
       "      <td>0.677</td>\n",
       "      <td>0.270</td>\n",
       "      <td>0.9714</td>\n",
       "      <td>Second time BA Premium Economy in a newer ai...</td>\n",
       "    </tr>\n",
       "    <tr>\n",
       "      <th>4</th>\n",
       "      <td>4</td>\n",
       "      <td>0.096</td>\n",
       "      <td>0.866</td>\n",
       "      <td>0.038</td>\n",
       "      <td>-0.8055</td>\n",
       "      <td>They changed our Flights from Brussels to Lo...</td>\n",
       "    </tr>\n",
       "    <tr>\n",
       "      <th>...</th>\n",
       "      <td>...</td>\n",
       "      <td>...</td>\n",
       "      <td>...</td>\n",
       "      <td>...</td>\n",
       "      <td>...</td>\n",
       "      <td>...</td>\n",
       "    </tr>\n",
       "    <tr>\n",
       "      <th>995</th>\n",
       "      <td>995</td>\n",
       "      <td>0.074</td>\n",
       "      <td>0.722</td>\n",
       "      <td>0.204</td>\n",
       "      <td>0.9878</td>\n",
       "      <td>Delhi to London. Having read many negative r...</td>\n",
       "    </tr>\n",
       "    <tr>\n",
       "      <th>996</th>\n",
       "      <td>996</td>\n",
       "      <td>0.042</td>\n",
       "      <td>0.867</td>\n",
       "      <td>0.091</td>\n",
       "      <td>0.9288</td>\n",
       "      <td>When you travel British Airways its like you ...</td>\n",
       "    </tr>\n",
       "    <tr>\n",
       "      <th>997</th>\n",
       "      <td>997</td>\n",
       "      <td>0.000</td>\n",
       "      <td>0.656</td>\n",
       "      <td>0.344</td>\n",
       "      <td>0.9768</td>\n",
       "      <td>British Airways gets plenty of well deserved...</td>\n",
       "    </tr>\n",
       "    <tr>\n",
       "      <th>998</th>\n",
       "      <td>998</td>\n",
       "      <td>0.107</td>\n",
       "      <td>0.763</td>\n",
       "      <td>0.130</td>\n",
       "      <td>0.8053</td>\n",
       "      <td>BA First Class is not even that any more. St...</td>\n",
       "    </tr>\n",
       "    <tr>\n",
       "      <th>999</th>\n",
       "      <td>999</td>\n",
       "      <td>0.108</td>\n",
       "      <td>0.848</td>\n",
       "      <td>0.045</td>\n",
       "      <td>-0.9086</td>\n",
       "      <td>Linate to London. The morning of the departu...</td>\n",
       "    </tr>\n",
       "  </tbody>\n",
       "</table>\n",
       "<p>1000 rows × 6 columns</p>\n",
       "</div>"
      ],
      "text/plain": [
       "     review_id    neg    neu    pos  compound  \\\n",
       "0            0  0.110  0.842  0.049   -0.7476   \n",
       "1            1  0.110  0.866  0.023   -0.8604   \n",
       "2            2  0.166  0.834  0.000   -0.8537   \n",
       "3            3  0.052  0.677  0.270    0.9714   \n",
       "4            4  0.096  0.866  0.038   -0.8055   \n",
       "..         ...    ...    ...    ...       ...   \n",
       "995        995  0.074  0.722  0.204    0.9878   \n",
       "996        996  0.042  0.867  0.091    0.9288   \n",
       "997        997  0.000  0.656  0.344    0.9768   \n",
       "998        998  0.107  0.763  0.130    0.8053   \n",
       "999        999  0.108  0.848  0.045   -0.9086   \n",
       "\n",
       "                                               reviews  \n",
       "0      Food was lousy. Who ever is planning the Asi...  \n",
       "1     Had the worst experience. The flight from Lon...  \n",
       "2      The ground staff were not helpful. Felt like...  \n",
       "3      Second time BA Premium Economy in a newer ai...  \n",
       "4      They changed our Flights from Brussels to Lo...  \n",
       "..                                                 ...  \n",
       "995    Delhi to London. Having read many negative r...  \n",
       "996   When you travel British Airways its like you ...  \n",
       "997    British Airways gets plenty of well deserved...  \n",
       "998    BA First Class is not even that any more. St...  \n",
       "999    Linate to London. The morning of the departu...  \n",
       "\n",
       "[1000 rows x 6 columns]"
      ]
     },
     "execution_count": 89,
     "metadata": {},
     "output_type": "execute_result"
    }
   ],
   "source": [
    "vaders = pd.DataFrame(res).T\n",
    "vaders = vaders.reset_index().rename(columns={\"index\": \"review_id\"})\n",
    "vaders = vaders.merge(df, how='left' )\n",
    "vaders"
   ]
  },
  {
   "cell_type": "code",
   "execution_count": null,
   "metadata": {},
   "outputs": [],
   "source": []
  }
 ],
 "metadata": {
  "kernelspec": {
   "display_name": "Python 3.9.13 ('venv': venv)",
   "language": "python",
   "name": "python3"
  },
  "language_info": {
   "codemirror_mode": {
    "name": "ipython",
    "version": 3
   },
   "file_extension": ".py",
   "mimetype": "text/x-python",
   "name": "python",
   "nbconvert_exporter": "python",
   "pygments_lexer": "ipython3",
   "version": "3.11.3"
  },
  "orig_nbformat": 4,
  "vscode": {
   "interpreter": {
    "hash": "4f7924c4c56b083e0e50eadfe7ef592a7a8ef70df33a0047f82280e6be1afe15"
   }
  }
 },
 "nbformat": 4,
 "nbformat_minor": 2
}
